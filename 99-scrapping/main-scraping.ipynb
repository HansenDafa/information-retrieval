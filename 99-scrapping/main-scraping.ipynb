{
 "cells": [
  {
   "cell_type": "code",
   "execution_count": 2,
   "metadata": {},
   "outputs": [
    {
     "name": "stdout",
     "output_type": "stream",
     "text": [
      "Requirement already satisfied: requests in c:\\users\\hansen dafa\\appdata\\local\\programs\\python\\python312\\lib\\site-packages (2.32.3)\n",
      "Collecting beautifulsoup4\n",
      "  Downloading beautifulsoup4-4.13.3-py3-none-any.whl.metadata (3.8 kB)\n",
      "Requirement already satisfied: charset-normalizer<4,>=2 in c:\\users\\hansen dafa\\appdata\\local\\programs\\python\\python312\\lib\\site-packages (from requests) (3.3.2)\n",
      "Requirement already satisfied: idna<4,>=2.5 in c:\\users\\hansen dafa\\appdata\\local\\programs\\python\\python312\\lib\\site-packages (from requests) (3.7)\n",
      "Requirement already satisfied: urllib3<3,>=1.21.1 in c:\\users\\hansen dafa\\appdata\\local\\programs\\python\\python312\\lib\\site-packages (from requests) (2.2.1)\n",
      "Requirement already satisfied: certifi>=2017.4.17 in c:\\users\\hansen dafa\\appdata\\local\\programs\\python\\python312\\lib\\site-packages (from requests) (2024.6.2)\n",
      "Collecting soupsieve>1.2 (from beautifulsoup4)\n",
      "  Using cached soupsieve-2.6-py3-none-any.whl.metadata (4.6 kB)\n",
      "Requirement already satisfied: typing-extensions>=4.0.0 in c:\\users\\hansen dafa\\appdata\\local\\programs\\python\\python312\\lib\\site-packages (from beautifulsoup4) (4.12.2)\n",
      "Downloading beautifulsoup4-4.13.3-py3-none-any.whl (186 kB)\n",
      "Using cached soupsieve-2.6-py3-none-any.whl (36 kB)\n",
      "Installing collected packages: soupsieve, beautifulsoup4\n",
      "Successfully installed beautifulsoup4-4.13.3 soupsieve-2.6\n",
      "Note: you may need to restart the kernel to use updated packages.\n"
     ]
    },
    {
     "name": "stderr",
     "output_type": "stream",
     "text": [
      "\n",
      "[notice] A new release of pip is available: 24.3.1 -> 25.0.1\n",
      "[notice] To update, run: python.exe -m pip install --upgrade pip\n"
     ]
    }
   ],
   "source": [
    "pip install requests beautifulsoup4\n"
   ]
  },
  {
   "cell_type": "code",
   "execution_count": 5,
   "metadata": {},
   "outputs": [
    {
     "name": "stdout",
     "output_type": "stream",
     "text": [
      "200\n",
      "<!DOCTYPE html>\n",
      "<html class=\"client-nojs vector-feature-language-in-header-enabled vector-feature-language-in-main-page-header-disabled vector-feature-page-tools-pinned-disabled vector-feature-toc-pinned-clientpref-1 vector-feature-main-menu-pinned-disabled vector-feature-limited-width-clientpref-1 vector-feature-limited-width-content-enabled vector-feature-custom-font-size-clientpref-1 vector-feature-appearance-pinned-clientpref-1 vector-feature-night-mode-enabled skin-theme-clientpref-day vect\n"
     ]
    }
   ],
   "source": [
    "import requests\n",
    "\n",
    "url = \"https://id.wikipedia.org/wiki/Deftones\"  # Replace with the target website\n",
    "response = requests.get(url)\n",
    "\n",
    "print(response.status_code)  # Check if the request was successful (200 means success)\n",
    "print(response.text[:500])  # Print the first 500 characters of the HTML\n"
   ]
  },
  {
   "cell_type": "code",
   "execution_count": 6,
   "metadata": {},
   "outputs": [
    {
     "name": "stdout",
     "output_type": "stream",
     "text": [
      "Page Title: Deftones - Wikipedia bahasa Indonesia, ensiklopedia bebas\n",
      "Deftones adalah grup musik metal alternatif Amerika yang dibentuk di Sacramento, California pada tahun 1988. Itu dibentuk oleh Chino Moreno (vokal, gitar ritme), Stephen Carpenter (gitar), Abe Cunningham (drum), dan Dominic Garcia (bass). Selama lima tahun pertama mereka, formasi band berubah beberapa kali, tetapi stabil pada tahun 1993 ketika Cunningham bergabung kembali setelah kepergiannya pada tahun 1990; saat ini, Chi Cheng adalah bassis. Lineup tetap stabil selama lima belas tahun, dengan pengecualian keyboardist dan turntablist Frank Delgado yang ditambahkan pada tahun 1999. Band ini dikenal sebagai salah satu grup paling eksperimental yang berasal dari scene metal alternatif.[1]\n",
      "\n",
      "Deftones telah merilis sembilan album sejak awal. Setelah lineup menetap pada tahun 1993, band ini mendapatkan kontrak rekaman dengan Maverick Records, dan kemudian merilis album debut mereka Adrenaline pada tahun 1995. Mempromosikan album dengan melakukan tur secara mendalam dengan band-band lain di tempat kejadian, Deftones berhasil mendapatkan basis penggemar yang berdedikasi melalui kata-kata. dari mulut. Album kedua mereka Around the Fur dirilis pada 1997, mencapai posisi chart bersama dengan singel-singelnya, dan menjadi band pertama yang menerima sertifikasi dari RIAA. Band ini menemukan kesuksesan lebih jauh dengan album ketiga mereka White Pony (2000), yang melihat transisi dari suara mereka sebelumnya yang lebih agresif ke arah yang lebih eksperimental. Single utamanya \"Change (In the House of Flies)\" adalah single band yang paling sukses secara komersial, dan lagu \"Elite\" memenangkan Grammy Award for Best Metal Performance; itu juga merupakan album pertama dari tiga album yang disertifikasi platinum di Amerika Serikat. Album keempat self-titled mereka dirilis pada tahun 2003. Sementara kesuksesan kritis grup terus berlanjut, penjualan terbukti lesu dibandingkan dengan White Pony.\n",
      "\n",
      "Album studio kelima Deftones, Saturday Night Wrist, dirilis pada 2006. Meski mendapat pujian kritis, produksi album ini dirusak oleh ketegangan kreatif dan masalah pribadi di dalam band, beberapa di antaranya memengaruhi materinya. Pada tahun 2008, ketika Deftones sedang mengerjakan album yang sementara berjudul Eros, Cheng terlibat dalam tabrakan lalu lintas. Akibatnya, ia dibiarkan dalam keadaan sadar minimal sampai kematiannya pada tahun 2013 karena serangan jantung. Setelah kecelakaan Cheng, Deftones menghentikan produksi di Eros. Bassis Quicksand Sergio Vega, yang mengisi sebagai anggota tur untuk menggantikan Cheng, kemudian menjadi pengganti tetapnya.\n",
      "\n",
      "Band ini merilis Diamond Eyes pada tahun 2010 dan memulai tur triple-headline dengan Alice in Chains dan Mastodon di seluruh Amerika Utara. Album ketujuh dan kedelapan mereka, masing-masing Koi No Yokan (2012) dan Gore (2016), melihat band ini terus bergerak ke arah yang semakin eksperimental dan dirilis dengan pujian kritis. Album terbaru mereka, Ohms, dirilis pada 25 September 2020, menerima pujian kritis yang signifikan atas kembalinya album tersebut ke suara band yang lebih berat.[2] Pada Maret 2022, diumumkan bahwa bassis Sergio Vega telah meninggalkan band pada awal 2021. Mereka telah menjual lebih dari 10 juta album di seluruh dunia.[3]\n",
      "\n",
      "Berelian, Essi (October 2003). \"Deftones\".  Dalam Buckley, Peter. The Rough Guide to Rock (edisi ke-3rd). London: Rough Guides, Ltd. hlm. 281–82. ISBN 1-85828-457-0. OCLC 43937011. \n",
      "\n"
     ]
    }
   ],
   "source": [
    "from bs4 import BeautifulSoup\n",
    "\n",
    "soup = BeautifulSoup(response.text, \"html.parser\")\n",
    "\n",
    "# Extract the title of the page\n",
    "title = soup.title.text\n",
    "print(\"Page Title:\", title)\n",
    "\n",
    "# Extract all paragraphs\n",
    "paragraphs = soup.p.text\n",
    "for paragraph in soup.find_all(\"p\"):\n",
    "    print(paragraph.text)\n"
   ]
  },
  {
   "cell_type": "code",
   "execution_count": null,
   "metadata": {},
   "outputs": [
    {
     "data": {
      "text/plain": [
       "696"
      ]
     },
     "execution_count": 7,
     "metadata": {},
     "output_type": "execute_result"
    }
   ],
   "source": [
    "len(paragraphs)\n",
    "\n"
   ]
  },
  {
   "cell_type": "code",
   "execution_count": 8,
   "metadata": {},
   "outputs": [],
   "source": [
    "import re"
   ]
  },
  {
   "cell_type": "code",
   "execution_count": null,
   "metadata": {},
   "outputs": [
    {
     "data": {
      "text/plain": [
       "121"
      ]
     },
     "execution_count": 12,
     "metadata": {},
     "output_type": "execute_result"
    }
   ],
   "source": [
    "preprocessed = preprocessed = re.split(r'([,.:;?_!\"()\\']|--|\\s)', paragraphs)\n",
    "preprocessed = [item.strip() for item in preprocessed if item.strip()]\n",
    "\n",
    "preprocessed[:50]\n",
    "\n",
    "len(preprocessed.lower())\n"
   ]
  },
  {
   "cell_type": "code",
   "execution_count": 21,
   "metadata": {},
   "outputs": [
    {
     "name": "stdout",
     "output_type": "stream",
     "text": [
      "82\n"
     ]
    }
   ],
   "source": [
    "#sort preprocessed words\n",
    "all_words = sorted(set(preprocessed))\n",
    "\n",
    "\n",
    "#showing the total number of unique words in the vocabulary\n",
    "vocab_size = len(all_words)\n",
    "\n",
    "print(vocab_size)"
   ]
  },
  {
   "cell_type": "code",
   "execution_count": 22,
   "metadata": {},
   "outputs": [],
   "source": [
    "vocab = {token:integer for integer,token in enumerate(all_words)}\n",
    "\n"
   ]
  },
  {
   "cell_type": "code",
   "execution_count": 23,
   "metadata": {},
   "outputs": [],
   "source": [
    "import nltk"
   ]
  },
  {
   "cell_type": "code",
   "execution_count": null,
   "metadata": {},
   "outputs": [
    {
     "name": "stdout",
     "output_type": "stream",
     "text": [
      "('(', 0)\n",
      "(')', 1)\n",
      "(',', 2)\n",
      "('.', 3)\n",
      "('1988', 4)\n",
      "('1990', 5)\n",
      "('1993', 6)\n",
      "('1999', 7)\n",
      "(';', 8)\n",
      "('Abe', 9)\n",
      "('Amerika', 10)\n",
      "('Band', 11)\n",
      "('California', 12)\n",
      "('Carpenter', 13)\n",
      "('Cheng', 14)\n",
      "('Chi', 15)\n",
      "('Chino', 16)\n",
      "('Cunningham', 17)\n",
      "('Deftones', 18)\n",
      "('Delgado', 19)\n",
      "('Dominic', 20)\n",
      "('Frank', 21)\n",
      "('Garcia', 22)\n",
      "('Itu', 23)\n",
      "('Lineup', 24)\n",
      "('Moreno', 25)\n",
      "('Sacramento', 26)\n",
      "('Selama', 27)\n",
      "('Stephen', 28)\n",
      "('[1]', 29)\n",
      "('adalah', 30)\n",
      "('alternatif', 31)\n",
      "('band', 32)\n",
      "('bass', 33)\n",
      "('bassis', 34)\n",
      "('beberapa', 35)\n",
      "('belas', 36)\n",
      "('berasal', 37)\n",
      "('bergabung', 38)\n",
      "('berubah', 39)\n",
      "('dan', 40)\n",
      "('dari', 41)\n",
      "('dengan', 42)\n",
      "('di', 43)\n",
      "('dibentuk', 44)\n",
      "('dikenal', 45)\n",
      "('ditambahkan', 46)\n",
      "('drum', 47)\n",
      "('eksperimental', 48)\n",
      "('formasi', 49)\n",
      "('gitar', 50)\n",
      "('grup', 51)\n",
      "('ini', 52)\n",
      "('kali', 53)\n",
      "('kembali', 54)\n",
      "('kepergiannya', 55)\n",
      "('ketika', 56)\n",
      "('keyboardist', 57)\n",
      "('lima', 58)\n",
      "('mereka', 59)\n",
      "('metal', 60)\n",
      "('musik', 61)\n",
      "('oleh', 62)\n",
      "('pada', 63)\n",
      "('paling', 64)\n",
      "('pengecualian', 65)\n",
      "('pertama', 66)\n",
      "('ritme', 67)\n",
      "('saat', 68)\n",
      "('salah', 69)\n",
      "('satu', 70)\n",
      "('scene', 71)\n",
      "('sebagai', 72)\n",
      "('selama', 73)\n",
      "('setelah', 74)\n",
      "('stabil', 75)\n",
      "('tahun', 76)\n",
      "('tetap', 77)\n",
      "('tetapi', 78)\n",
      "('turntablist', 79)\n",
      "('vokal', 80)\n",
      "('yang', 81)\n"
     ]
    }
   ],
   "source": [
    "# add ID for every item in vocab \n",
    "for i, item in enumerate(vocab.items()):\n",
    "    print(item.lower())\n",
    "    if i >= 100:\n",
    "        break"
   ]
  }
 ],
 "metadata": {
  "kernelspec": {
   "display_name": "Python 3",
   "language": "python",
   "name": "python3"
  },
  "language_info": {
   "codemirror_mode": {
    "name": "ipython",
    "version": 3
   },
   "file_extension": ".py",
   "mimetype": "text/x-python",
   "name": "python",
   "nbconvert_exporter": "python",
   "pygments_lexer": "ipython3",
   "version": "3.12.4"
  }
 },
 "nbformat": 4,
 "nbformat_minor": 2
}
