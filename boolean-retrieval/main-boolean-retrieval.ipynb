{
 "cells": [
  {
   "cell_type": "code",
   "execution_count": 1,
   "metadata": {},
   "outputs": [
    {
     "name": "stderr",
     "output_type": "stream",
     "text": [
      "[nltk_data] Downloading package punkt to C:\\Users\\Hansen\n",
      "[nltk_data]     Dafa\\AppData\\Roaming\\nltk_data...\n",
      "[nltk_data]   Package punkt is already up-to-date!\n",
      "[nltk_data] Downloading package wordnet to C:\\Users\\Hansen\n",
      "[nltk_data]     Dafa\\AppData\\Roaming\\nltk_data...\n",
      "[nltk_data]   Package wordnet is already up-to-date!\n"
     ]
    },
    {
     "data": {
      "text/plain": [
       "True"
      ]
     },
     "execution_count": 1,
     "metadata": {},
     "output_type": "execute_result"
    }
   ],
   "source": [
    "import nltk\n",
    "from nltk.stem import PorterStemmer, WordNetLemmatizer\n",
    "from nltk.tokenize import word_tokenize\n",
    "\n",
    "nltk.download('punkt')\n",
    "nltk.download('wordnet')"
   ]
  },
  {
   "cell_type": "code",
   "execution_count": 2,
   "metadata": {},
   "outputs": [],
   "source": [
    "# Data dokumen\n",
    "docs = {\n",
    "    'D1': \"Machine learning improves search engines.\",\n",
    "    'D2': \"Information retrieval techniques are evolving.\",\n",
    "    'D3': \"Search engines use advanced algorithms.\",\n",
    "    'D4': \"Deep learning and neural networks are popular.\",\n",
    "    'D5': \"Boolean retrieval uses logical operators.\",\n",
    "    'D6': \"Query processing is essential in search engines.\",\n",
    "    'D7': \"Text mining and NLP are related to information retrieval.\",\n",
    "    'D8': \"Search algorithms improve information discovery.\",\n",
    "    'D9': \"Data science leverages machine learning.\",\n",
    "    'D10': \"Ranking methods optimize search engine results.\"\n",
    "}\n"
   ]
  },
  {
   "cell_type": "code",
   "execution_count": 3,
   "metadata": {},
   "outputs": [],
   "source": [
    "# Daftar query\n",
    "queries = [\n",
    "    (\"Search AND Engine\", \"AND\"),\n",
    "    (\"Information OR Retrieval\", \"OR\"),\n",
    "    (\"Machine NOT Learning\", \"NOT\")\n",
    "]"
   ]
  },
  {
   "cell_type": "code",
   "execution_count": 4,
   "metadata": {},
   "outputs": [],
   "source": [
    "\n",
    "# Fungsi preprocessing\n",
    "def simple_preprocess(text):\n",
    "    tokens = word_tokenize(text)\n",
    "    return [t.lower() for t in tokens if t.isalnum()]\n",
    "\n",
    "def stemming_preprocess(text):\n",
    "    stemmer = PorterStemmer()\n",
    "    tokens = word_tokenize(text)\n",
    "    return [stemmer.stem(t.lower()) for t in tokens if t.isalnum()]\n",
    "\n",
    "def lemmatization_preprocess(text):\n",
    "    lemmatizer = WordNetLemmatizer()\n",
    "    tokens = word_tokenize(text)\n",
    "    return [lemmatizer.lemmatize(t.lower()) for t in tokens if t.isalnum()]"
   ]
  },
  {
   "cell_type": "code",
   "execution_count": 5,
   "metadata": {},
   "outputs": [],
   "source": [
    "# Membangun inverted index\n",
    "def build_inverted_index(docs, preprocess_func):\n",
    "    inverted_index = {}\n",
    "    for doc_id, text in docs.items():\n",
    "        terms = preprocess_func(text)\n",
    "        for term in terms:\n",
    "            inverted_index.setdefault(term, set()).add(doc_id)\n",
    "    return inverted_index"
   ]
  },
  {
   "cell_type": "code",
   "execution_count": null,
   "metadata": {},
   "outputs": [],
   "source": [
    "# Evaluasi query\n",
    "def process_query(query_terms, operator, inverted_index):\n",
    "    set1 = inverted_index.get(query_terms[0], set())\n",
    "    set2 = inverted_index.get(query_terms[1], set())\n",
    "    \n",
    "    if operator == \"AND\":\n",
    "        return set1 & set2\n",
    "    elif operator == \"OR\":\n",
    "        return set1 | set2\n",
    "    elif operator == \"NOT\":\n",
    "        return set1 - set2\n",
    "    return set()\n"
   ]
  }
 ],
 "metadata": {
  "kernelspec": {
   "display_name": "Python 3",
   "language": "python",
   "name": "python3"
  },
  "language_info": {
   "codemirror_mode": {
    "name": "ipython",
    "version": 3
   },
   "file_extension": ".py",
   "mimetype": "text/x-python",
   "name": "python",
   "nbconvert_exporter": "python",
   "pygments_lexer": "ipython3",
   "version": "3.12.4"
  }
 },
 "nbformat": 4,
 "nbformat_minor": 2
}
