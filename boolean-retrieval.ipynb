{
 "cells": [
  {
   "cell_type": "markdown",
   "metadata": {},
   "source": [
    "## Boolean Retrieval"
   ]
  },
  {
   "cell_type": "code",
   "execution_count": 3,
   "metadata": {},
   "outputs": [],
   "source": [
    "documents = {\n",
    "    \"D1\": \"Machine learning improves search engines.\",\n",
    "    \"D2\": \"Information retrieval techniques are evolving.\",\n",
    "    \"D3\": \"Search engines use advanced algorithms.\",\n",
    "    \"D4\": \"Deep learning and neural networks are popular.\",\n",
    "    \"D5\": \"Boolean retrieval uses logical operators.\",\n",
    "    \"D6\": \"Query processing is essential in search engines.\",\n",
    "    \"D7\": \"Text mining and NLP are related to information retrieval.\",\n",
    "    \"D8\": \"Search algorithms improve information discovery.\",\n",
    "    \"D9\": \"Data science leverages machine learning.\",\n",
    "    \"D10\": \"Ranking methods optimize search engine results.\"\n",
    "}"
   ]
  },
  {
   "cell_type": "code",
   "execution_count": 4,
   "metadata": {},
   "outputs": [],
   "source": [
    "query1 = \"Search AND Engine\"\n",
    "query2 = \"Information OR Retrieval\"\n",
    "query3 = \"Machine NOT Learning\"\n"
   ]
  },
  {
   "cell_type": "markdown",
   "metadata": {},
   "source": [
    "Simple Boolean Retrieval"
   ]
  },
  {
   "cell_type": "code",
   "execution_count": null,
   "metadata": {},
   "outputs": [],
   "source": [
    "\n",
    "def simple_boolean_retrieval(query, documents):\n",
    "    results = []\n",
    "    query_parts = query.split()\n",
    "    term1 = query_parts[0].lower()  # First term\n",
    "    operator = query_parts[1].upper()  # AND, OR, NOT\n",
    "    term2 = query_parts[2].lower()  # Second term\n",
    "\n",
    "    for doc_id, doc_text in documents.items():\n",
    "        doc_text_lower = doc_text.lower()\n",
    "        term1_present = term1 in doc_text_lower\n",
    "        term2_present = term2 in doc_text_lower\n",
    "\n",
    "        if operator == \"AND\":\n",
    "            if term1_present and term2_present:\n",
    "                results.append(doc_id)\n",
    "        elif operator == \"OR\":\n",
    "            if term1_present or term2_present:\n",
    "                results.append(doc_id)\n",
    "        elif operator == \"NOT\":\n",
    "            if term1_present and not term2_present:\n",
    "                results.append(doc_id)\n",
    "        else:\n",
    "            print(\"Invalid operator\")\n",
    "            return []\n",
    "\n",
    "    return results\n",
    "\n"
   ]
  },
  {
   "cell_type": "code",
   "execution_count": null,
   "metadata": {},
   "outputs": [
    {
     "name": "stdout",
     "output_type": "stream",
     "text": [
      "Results for 'Search AND Engine': ['D1', 'D3', 'D6', 'D10']\n",
      "Results for 'Information OR Retrieval': ['D2', 'D5', 'D7', 'D8']\n",
      "Results for 'Machine NOT Learning': []\n"
     ]
    }
   ],
   "source": [
    "results1 = simple_boolean_retrieval(query1, documents)\n",
    "results2 = simple_boolean_retrieval(query2, documents)\n",
    "results3 = simple_boolean_retrieval(query3, documents)\n",
    "\n",
    "\n",
    "print(f\"Results for '{query1}': {results1}\")\n",
    "print(f\"Results for '{query2}': {results2}\")\n",
    "print(f\"Results for '{query3}': {results3}\")"
   ]
  },
  {
   "cell_type": "markdown",
   "metadata": {},
   "source": [
    "Stemming Boolean Retrieval"
   ]
  },
  {
   "cell_type": "code",
   "execution_count": 7,
   "metadata": {},
   "outputs": [
    {
     "name": "stderr",
     "output_type": "stream",
     "text": [
      "[nltk_data] Downloading package punkt to C:\\Users\\Hansen\n",
      "[nltk_data]     Dafa\\AppData\\Roaming\\nltk_data...\n",
      "[nltk_data]   Unzipping tokenizers\\punkt.zip.\n"
     ]
    },
    {
     "data": {
      "text/plain": [
       "True"
      ]
     },
     "execution_count": 7,
     "metadata": {},
     "output_type": "execute_result"
    }
   ],
   "source": [
    "import nltk\n",
    "from nltk.stem import PorterStemmer\n",
    "from nltk.tokenize import word_tokenize\n",
    "\n",
    "nltk.download('punkt')  # Download required resource for tokenization (if you haven't already)"
   ]
  },
  {
   "cell_type": "code",
   "execution_count": null,
   "metadata": {},
   "outputs": [],
   "source": []
  }
 ],
 "metadata": {
  "kernelspec": {
   "display_name": "Python 3",
   "language": "python",
   "name": "python3"
  },
  "language_info": {
   "codemirror_mode": {
    "name": "ipython",
    "version": 3
   },
   "file_extension": ".py",
   "mimetype": "text/x-python",
   "name": "python",
   "nbconvert_exporter": "python",
   "pygments_lexer": "ipython3",
   "version": "3.12.4"
  }
 },
 "nbformat": 4,
 "nbformat_minor": 2
}
