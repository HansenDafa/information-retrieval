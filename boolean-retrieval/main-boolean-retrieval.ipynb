{
 "cells": [
  {
   "cell_type": "code",
   "execution_count": 1,
   "metadata": {},
   "outputs": [
    {
     "name": "stderr",
     "output_type": "stream",
     "text": [
      "[nltk_data] Downloading package punkt to C:\\Users\\Hansen\n",
      "[nltk_data]     Dafa\\AppData\\Roaming\\nltk_data...\n",
      "[nltk_data]   Package punkt is already up-to-date!\n",
      "[nltk_data] Downloading package wordnet to C:\\Users\\Hansen\n",
      "[nltk_data]     Dafa\\AppData\\Roaming\\nltk_data...\n",
      "[nltk_data]   Package wordnet is already up-to-date!\n"
     ]
    },
    {
     "data": {
      "text/plain": [
       "True"
      ]
     },
     "execution_count": 1,
     "metadata": {},
     "output_type": "execute_result"
    }
   ],
   "source": [
    "import nltk\n",
    "from nltk.stem import PorterStemmer, WordNetLemmatizer\n",
    "from nltk.tokenize import word_tokenize\n",
    "\n",
    "nltk.download('punkt')\n",
    "nltk.download('wordnet')"
   ]
  },
  {
   "cell_type": "code",
   "execution_count": 2,
   "metadata": {},
   "outputs": [],
   "source": [
    "# Data dokumen\n",
    "docs = {\n",
    "    'D1': \"Machine learning improves search engines.\",\n",
    "    'D2': \"Information retrieval techniques are evolving.\",\n",
    "    'D3': \"Search engines use advanced algorithms.\",\n",
    "    'D4': \"Deep learning and neural networks are popular.\",\n",
    "    'D5': \"Boolean retrieval uses logical operators.\",\n",
    "    'D6': \"Query processing is essential in search engines.\",\n",
    "    'D7': \"Text mining and NLP are related to information retrieval.\",\n",
    "    'D8': \"Search algorithms improve information discovery.\",\n",
    "    'D9': \"Data science leverages machine learning.\",\n",
    "    'D10': \"Ranking methods optimize search engine results.\"\n",
    "}\n"
   ]
  },
  {
   "cell_type": "code",
   "execution_count": 3,
   "metadata": {},
   "outputs": [],
   "source": [
    "# Daftar query\n",
    "queries = [\n",
    "    (\"Search AND Engine\", \"AND\"),\n",
    "    (\"Information OR Retrieval\", \"OR\"),\n",
    "    (\"Machine NOT Learning\", \"NOT\")\n",
    "]"
   ]
  },
  {
   "cell_type": "code",
   "execution_count": 4,
   "metadata": {},
   "outputs": [],
   "source": [
    "\n",
    "# Fungsi preprocessing\n",
    "def simple_preprocess(text):\n",
    "    tokens = word_tokenize(text)\n",
    "    return [t.lower() for t in tokens if t.isalnum()]\n",
    "\n",
    "def stemming_preprocess(text):\n",
    "    stemmer = PorterStemmer()\n",
    "    tokens = word_tokenize(text)\n",
    "    return [stemmer.stem(t.lower()) for t in tokens if t.isalnum()]\n",
    "\n",
    "def lemmatization_preprocess(text):\n",
    "    lemmatizer = WordNetLemmatizer()\n",
    "    tokens = word_tokenize(text)\n",
    "    return [lemmatizer.lemmatize(t.lower()) for t in tokens if t.isalnum()]"
   ]
  },
  {
   "cell_type": "code",
   "execution_count": 5,
   "metadata": {},
   "outputs": [],
   "source": [
    "# Membangun inverted index\n",
    "def build_inverted_index(docs, preprocess_func):\n",
    "    inverted_index = {}\n",
    "    for doc_id, text in docs.items():\n",
    "        terms = preprocess_func(text)\n",
    "        for term in terms:\n",
    "            inverted_index.setdefault(term, set()).add(doc_id)\n",
    "    return inverted_index"
   ]
  },
  {
   "cell_type": "code",
   "execution_count": null,
   "metadata": {},
   "outputs": [],
   "source": [
    "# Evaluasi query\n",
    "def process_query(query_terms, operator, inverted_index):\n",
    "    set1 = inverted_index.get(query_terms[0], set())\n",
    "    set2 = inverted_index.get(query_terms[1], set())\n",
    "    \n",
    "    if operator == \"AND\":\n",
    "        return set1 & set2\n",
    "    elif operator == \"OR\":\n",
    "        return set1 | set2\n",
    "    elif operator == \"NOT\":\n",
    "        return set1 - set2\n",
    "    return set()\n"
   ]
  },
  {
   "cell_type": "code",
   "execution_count": null,
   "metadata": {},
   "outputs": [],
   "source": [
    "# Ground truth untuk setiap query\n",
    "ground_truth = {\n",
    "    0: {'D10'},         # Query 1\n",
    "    1: {'D2', 'D5', 'D7'}, # Query 2\n",
    "    2: set()             # Query 3\n",
    "}"
   ]
  },
  {
   "cell_type": "code",
   "execution_count": null,
   "metadata": {},
   "outputs": [],
   "source": [
    "\n",
    "# Evaluasi metrik\n",
    "def evaluate(retrieved, relevant, total_docs):\n",
    "    tp = len(retrieved & relevant)\n",
    "    fp = len(retrieved - relevant)\n",
    "    fn = len(relevant - retrieved)\n",
    "    tn = total_docs - (tp + fp + fn)\n",
    "    \n",
    "    precision = tp / (tp + fp) if (tp + fp) > 0 else 1.0\n",
    "    recall = tp / (tp + fn) if (tp + fn) > 0 else 1.0\n",
    "    accuracy = (tp + tn) / total_docs\n",
    "    f1 = 2 * (precision * recall) / (precision + recall) if (precision + recall) > 0 else 0\n",
    "    \n",
    "    return precision, recall, accuracy, f1\n"
   ]
  },
  {
   "cell_type": "code",
   "execution_count": null,
   "metadata": {},
   "outputs": [],
   "source": [
    "# Eksekusi untuk semua metode\n",
    "methods = {\n",
    "    'a': {'name': 'Simple', 'preprocess': simple_preprocess},\n",
    "    'b': {'name': 'Stemming', 'preprocess': stemming_preprocess},\n",
    "    'c': {'name': 'Lemmatization', 'preprocess': lemmatization_preprocess}\n",
    "}\n",
    "results = {}"
   ]
  },
  {
   "cell_type": "code",
   "execution_count": null,
   "metadata": {},
   "outputs": [],
   "source": [
    "for method_id, method in methods.items():\n",
    "    inverted_index = build_inverted_index(docs, method['preprocess'])\n",
    "    method_results = []\n",
    "    \n",
    "    for q_idx, (query_text, operator) in enumerate(queries):\n",
    "        # Preprocess query\n",
    "        query_terms = []\n",
    "        for term in query_text.split():\n",
    "            if term not in [\"AND\", \"OR\", \"NOT\"]:\n",
    "                processed = method['preprocess'](term)\n",
    "                if processed:\n",
    "                    query_terms.append(processed[0])\n",
    "        \n",
    "        # Proses query\n",
    "        retrieved = process_query(query_terms, operator, inverted_index)\n",
    "        precision, recall, accuracy, f1 = evaluate(retrieved, ground_truth[q_idx], len(docs))\n",
    "        \n",
    "        method_results.append({\n",
    "            'precision': round(precision, 2),\n",
    "            'recall': round(recall, 2),\n",
    "            'accuracy': round(accuracy, 2),\n",
    "            'f1': round(f1, 2)\n",
    "        })\n",
    "    \n",
    "    results[method_id] = method_results\n",
    "\n",
    "# Menampilkan hasil\n",
    "for method_id, method in methods.items():\n",
    "    print(f\"\\n=== {method['name']} Method ===\")\n",
    "    print(f\"{'Query':<10} {'Precision':<10} {'Recall':<10} {'Accuracy':<10} {'F1-score':<10}\")\n",
    "    for q_idx in range(3):\n",
    "        res = results[method_id][q_idx]\n",
    "        print(f\"Query {q_idx+1}: {res['precision']:<10} {res['recall']:<10} {res['accuracy']:<10} {res['f1']:<10}\")"
   ]
  }
 ],
 "metadata": {
  "kernelspec": {
   "display_name": "Python 3",
   "language": "python",
   "name": "python3"
  },
  "language_info": {
   "codemirror_mode": {
    "name": "ipython",
    "version": 3
   },
   "file_extension": ".py",
   "mimetype": "text/x-python",
   "name": "python",
   "nbconvert_exporter": "python",
   "pygments_lexer": "ipython3",
   "version": "3.12.4"
  }
 },
 "nbformat": 4,
 "nbformat_minor": 2
}
