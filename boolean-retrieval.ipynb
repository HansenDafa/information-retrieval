{
 "cells": [
  {
   "cell_type": "markdown",
   "metadata": {},
   "source": [
    "## Boolean Retrieval"
   ]
  },
  {
   "cell_type": "code",
   "execution_count": 3,
   "metadata": {},
   "outputs": [],
   "source": [
    "documents = {\n",
    "    \"D1\": \"Machine learning improves search engines.\",\n",
    "    \"D2\": \"Information retrieval techniques are evolving.\",\n",
    "    \"D3\": \"Search engines use advanced algorithms.\",\n",
    "    \"D4\": \"Deep learning and neural networks are popular.\",\n",
    "    \"D5\": \"Boolean retrieval uses logical operators.\",\n",
    "    \"D6\": \"Query processing is essential in search engines.\",\n",
    "    \"D7\": \"Text mining and NLP are related to information retrieval.\",\n",
    "    \"D8\": \"Search algorithms improve information discovery.\",\n",
    "    \"D9\": \"Data science leverages machine learning.\",\n",
    "    \"D10\": \"Ranking methods optimize search engine results.\"\n",
    "}"
   ]
  },
  {
   "cell_type": "code",
   "execution_count": null,
   "metadata": {},
   "outputs": [],
   "source": []
  }
 ],
 "metadata": {
  "kernelspec": {
   "display_name": "Python 3",
   "language": "python",
   "name": "python3"
  },
  "language_info": {
   "codemirror_mode": {
    "name": "ipython",
    "version": 3
   },
   "file_extension": ".py",
   "mimetype": "text/x-python",
   "name": "python",
   "nbconvert_exporter": "python",
   "pygments_lexer": "ipython3",
   "version": "3.12.4"
  }
 },
 "nbformat": 4,
 "nbformat_minor": 2
}
